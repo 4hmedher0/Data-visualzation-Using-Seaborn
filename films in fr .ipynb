{
 "cells": [
  {
   "cell_type": "code",
   "execution_count": 1,
   "id": "43d23b85-c8fe-4073-b26b-c3b5430aaaf7",
   "metadata": {},
   "outputs": [
    {
     "name": "stdout",
     "output_type": "stream",
     "text": [
      "Collecting lxml\n",
      "  Downloading lxml-4.6.3-cp37-cp37m-manylinux2014_x86_64.whl (6.3 MB)\n",
      "\u001b[K     |████████████████████████████████| 6.3 MB 4.6 MB/s eta 0:00:01\n",
      "\u001b[?25hInstalling collected packages: lxml\n",
      "Successfully installed lxml-4.6.3\n",
      "Note: you may need to restart the kernel to use updated packages.\n"
     ]
    }
   ],
   "source": [
    "pip install lxml\n"
   ]
  },
  {
   "cell_type": "code",
   "execution_count": 2,
   "id": "4c8d112e-15c6-40a3-b728-85f0c8d89668",
   "metadata": {},
   "outputs": [
    {
     "name": "stdout",
     "output_type": "stream",
     "text": [
      "Requirement already satisfied: requests in c:\\users\\theif\\anaconda3\\lib\\site-packages (2.25.1)Note: you may need to restart the kernel to use updated packages.\n",
      "Requirement already satisfied: chardet<5,>=3.0.2 in c:\\users\\theif\\anaconda3\\lib\\site-packages (from requests) (4.0.0)\n",
      "Requirement already satisfied: idna<3,>=2.5 in c:\\users\\theif\\anaconda3\\lib\\site-packages (from requests) (2.10)\n",
      "Requirement already satisfied: urllib3<1.27,>=1.21.1 in c:\\users\\theif\\anaconda3\\lib\\site-packages (from requests) (1.26.4)\n",
      "Requirement already satisfied: certifi>=2017.4.17 in c:\\users\\theif\\anaconda3\\lib\\site-packages (from requests) (2020.12.5)\n",
      "\n"
     ]
    }
   ],
   "source": [
    "pip install requests"
   ]
  },
  {
   "cell_type": "code",
   "execution_count": 3,
   "id": "2f090ad9-429c-4eca-b1d6-7e3b09b92ad3",
   "metadata": {},
   "outputs": [],
   "source": [
    "import requests\n",
    "import pandas as pd\n",
    "import seaborn as sns\n",
    "import matplotlib.pyplot as plt"
   ]
  },
  {
   "cell_type": "code",
   "execution_count": 4,
   "id": "43cb40c8-ac49-49cb-bc65-f85377952fcd",
   "metadata": {},
   "outputs": [
    {
     "data": {
      "text/plain": [
       "list"
      ]
     },
     "execution_count": 4,
     "metadata": {},
     "output_type": "execute_result"
    }
   ],
   "source": [
    "url='https://en.wikipedia.org/wiki/List_of_2018_box_office_number-one_films_in_France'\n",
    "req=requests.get(url)\n",
    "type(req)\n",
    "data=pd.read_html(req.text)\n",
    "type(data)"
   ]
  },
  {
   "cell_type": "code",
   "execution_count": 5,
   "id": "e56a3f9d-3f4f-4ef5-b336-3c3b4035467b",
   "metadata": {},
   "outputs": [
    {
     "data": {
      "text/html": [
       "<div>\n",
       "<style scoped>\n",
       "    .dataframe tbody tr th:only-of-type {\n",
       "        vertical-align: middle;\n",
       "    }\n",
       "\n",
       "    .dataframe tbody tr th {\n",
       "        vertical-align: top;\n",
       "    }\n",
       "\n",
       "    .dataframe thead th {\n",
       "        text-align: right;\n",
       "    }\n",
       "</style>\n",
       "<table border=\"1\" class=\"dataframe\">\n",
       "  <thead>\n",
       "    <tr style=\"text-align: right;\">\n",
       "      <th></th>\n",
       "      <th>#</th>\n",
       "      <th>Date</th>\n",
       "      <th>Film</th>\n",
       "      <th>Gross</th>\n",
       "      <th>Notes</th>\n",
       "    </tr>\n",
       "  </thead>\n",
       "  <tbody>\n",
       "    <tr>\n",
       "      <th>0</th>\n",
       "      <td>1</td>\n",
       "      <td>January 7, 2018</td>\n",
       "      <td>Star Wars: The Last Jedi</td>\n",
       "      <td>US$6,557,062</td>\n",
       "      <td>[1]</td>\n",
       "    </tr>\n",
       "    <tr>\n",
       "      <th>1</th>\n",
       "      <td>2</td>\n",
       "      <td>January 14, 2018</td>\n",
       "      <td>Jumanji: Welcome to the Jungle</td>\n",
       "      <td>US$2,127,871</td>\n",
       "      <td>[2]</td>\n",
       "    </tr>\n",
       "    <tr>\n",
       "      <th>2</th>\n",
       "      <td>3</td>\n",
       "      <td>January 21, 2018</td>\n",
       "      <td>Brillantissime</td>\n",
       "      <td>US$2,006,033</td>\n",
       "      <td>[3]</td>\n",
       "    </tr>\n",
       "    <tr>\n",
       "      <th>3</th>\n",
       "      <td>4</td>\n",
       "      <td>January 28, 2018</td>\n",
       "      <td>The Post</td>\n",
       "      <td>US$2,771,269</td>\n",
       "      <td>[4]</td>\n",
       "    </tr>\n",
       "    <tr>\n",
       "      <th>4</th>\n",
       "      <td>5</td>\n",
       "      <td>February 4, 2018</td>\n",
       "      <td>Les Tuche 3</td>\n",
       "      <td>US$16,604,101</td>\n",
       "      <td>[5]</td>\n",
       "    </tr>\n",
       "  </tbody>\n",
       "</table>\n",
       "</div>"
      ],
      "text/plain": [
       "   #              Date                            Film          Gross Notes\n",
       "0  1   January 7, 2018        Star Wars: The Last Jedi   US$6,557,062   [1]\n",
       "1  2  January 14, 2018  Jumanji: Welcome to the Jungle   US$2,127,871   [2]\n",
       "2  3  January 21, 2018                  Brillantissime   US$2,006,033   [3]\n",
       "3  4  January 28, 2018                        The Post   US$2,771,269   [4]\n",
       "4  5  February 4, 2018                     Les Tuche 3  US$16,604,101   [5]"
      ]
     },
     "execution_count": 5,
     "metadata": {},
     "output_type": "execute_result"
    }
   ],
   "source": [
    "df=data[0]\n",
    "type(df)\n",
    "df.head()"
   ]
  },
  {
   "cell_type": "code",
   "execution_count": 6,
   "id": "d5c9eba9-9415-4e62-a35c-7bcbdb167fee",
   "metadata": {},
   "outputs": [
    {
     "name": "stdout",
     "output_type": "stream",
     "text": [
      "<class 'pandas.core.frame.DataFrame'>\n",
      "RangeIndex: 50 entries, 0 to 49\n",
      "Data columns (total 5 columns):\n",
      " #   Column  Non-Null Count  Dtype \n",
      "---  ------  --------------  ----- \n",
      " 0   #       50 non-null     int64 \n",
      " 1   Date    50 non-null     object\n",
      " 2   Film    50 non-null     object\n",
      " 3   Gross   50 non-null     object\n",
      " 4   Notes   50 non-null     object\n",
      "dtypes: int64(1), object(4)\n",
      "memory usage: 2.1+ KB\n"
     ]
    }
   ],
   "source": [
    "df.info()"
   ]
  },
  {
   "cell_type": "code",
   "execution_count": 7,
   "id": "b9c8f82d-a5c1-4b9a-8b34-96ca58a411f2",
   "metadata": {},
   "outputs": [
    {
     "data": {
      "text/plain": [
       "(50, 5)"
      ]
     },
     "execution_count": 7,
     "metadata": {},
     "output_type": "execute_result"
    }
   ],
   "source": [
    "df.shape"
   ]
  },
  {
   "cell_type": "code",
   "execution_count": 8,
   "id": "b98addb6-55d3-4d6a-808e-3ad553d9dc7a",
   "metadata": {},
   "outputs": [
    {
     "data": {
      "text/html": [
       "<div>\n",
       "<style scoped>\n",
       "    .dataframe tbody tr th:only-of-type {\n",
       "        vertical-align: middle;\n",
       "    }\n",
       "\n",
       "    .dataframe tbody tr th {\n",
       "        vertical-align: top;\n",
       "    }\n",
       "\n",
       "    .dataframe thead th {\n",
       "        text-align: right;\n",
       "    }\n",
       "</style>\n",
       "<table border=\"1\" class=\"dataframe\">\n",
       "  <thead>\n",
       "    <tr style=\"text-align: right;\">\n",
       "      <th></th>\n",
       "      <th>#</th>\n",
       "    </tr>\n",
       "  </thead>\n",
       "  <tbody>\n",
       "    <tr>\n",
       "      <th>count</th>\n",
       "      <td>50.00000</td>\n",
       "    </tr>\n",
       "    <tr>\n",
       "      <th>mean</th>\n",
       "      <td>25.50000</td>\n",
       "    </tr>\n",
       "    <tr>\n",
       "      <th>std</th>\n",
       "      <td>14.57738</td>\n",
       "    </tr>\n",
       "    <tr>\n",
       "      <th>min</th>\n",
       "      <td>1.00000</td>\n",
       "    </tr>\n",
       "    <tr>\n",
       "      <th>25%</th>\n",
       "      <td>13.25000</td>\n",
       "    </tr>\n",
       "    <tr>\n",
       "      <th>50%</th>\n",
       "      <td>25.50000</td>\n",
       "    </tr>\n",
       "    <tr>\n",
       "      <th>75%</th>\n",
       "      <td>37.75000</td>\n",
       "    </tr>\n",
       "    <tr>\n",
       "      <th>max</th>\n",
       "      <td>50.00000</td>\n",
       "    </tr>\n",
       "  </tbody>\n",
       "</table>\n",
       "</div>"
      ],
      "text/plain": [
       "              #\n",
       "count  50.00000\n",
       "mean   25.50000\n",
       "std    14.57738\n",
       "min     1.00000\n",
       "25%    13.25000\n",
       "50%    25.50000\n",
       "75%    37.75000\n",
       "max    50.00000"
      ]
     },
     "execution_count": 8,
     "metadata": {},
     "output_type": "execute_result"
    }
   ],
   "source": [
    "df.describe()"
   ]
  },
  {
   "cell_type": "code",
   "execution_count": 6,
   "id": "528c195e-f6c9-4fea-a7c9-caf2d3251af2",
   "metadata": {},
   "outputs": [
    {
     "name": "stderr",
     "output_type": "stream",
     "text": [
      "<ipython-input-6-f5eca0da006c>:1: FutureWarning: The default value of regex will change from True to False in a future version.\n",
      "  df['Gross']=df['Gross'].str.replace(r'US\\$','')\n"
     ]
    }
   ],
   "source": [
    "df['Gross']=df['Gross'].str.replace(r'US\\$','')"
   ]
  },
  {
   "cell_type": "code",
   "execution_count": 7,
   "id": "b0713876-d1bd-485a-9a6b-5044f9ba2aa4",
   "metadata": {},
   "outputs": [],
   "source": [
    "df['Gross']=df['Gross'].str.replace(r',','')"
   ]
  },
  {
   "cell_type": "code",
   "execution_count": 8,
   "id": "f40a3dbe-01fc-4b33-912e-ca202ba52ec6",
   "metadata": {},
   "outputs": [],
   "source": [
    "df['Date']=df['Date'].astype('datetime64')"
   ]
  },
  {
   "cell_type": "code",
   "execution_count": 9,
   "id": "ecc0a2d5-42ee-4945-acf3-8812d48f13d0",
   "metadata": {},
   "outputs": [],
   "source": [
    "df['Gross']=df['Gross'].astype('int64')"
   ]
  },
  {
   "cell_type": "code",
   "execution_count": 13,
   "id": "6c3b99cf-aa0f-45a0-a8b9-cf574ed9d567",
   "metadata": {},
   "outputs": [
    {
     "name": "stdout",
     "output_type": "stream",
     "text": [
      "<class 'pandas.core.frame.DataFrame'>\n",
      "RangeIndex: 50 entries, 0 to 49\n",
      "Data columns (total 5 columns):\n",
      " #   Column  Non-Null Count  Dtype         \n",
      "---  ------  --------------  -----         \n",
      " 0   #       50 non-null     int64         \n",
      " 1   Date    50 non-null     datetime64[ns]\n",
      " 2   Film    50 non-null     object        \n",
      " 3   Gross   50 non-null     int64         \n",
      " 4   Notes   50 non-null     object        \n",
      "dtypes: datetime64[ns](1), int64(2), object(2)\n",
      "memory usage: 2.1+ KB\n"
     ]
    }
   ],
   "source": [
    "df.info()"
   ]
  },
  {
   "cell_type": "code",
   "execution_count": 10,
   "id": "f2641f50-0d24-4bc2-a531-a33adb6071f5",
   "metadata": {},
   "outputs": [],
   "source": [
    "df['Month']=pd.DatetimeIndex(df['Date']).month\n"
   ]
  },
  {
   "cell_type": "code",
   "execution_count": 11,
   "id": "e06eab19-fb76-49a5-8137-89a3f82c846b",
   "metadata": {},
   "outputs": [
    {
     "data": {
      "text/plain": [
       "count    5.000000e+01\n",
       "mean     6.071005e+06\n",
       "std      3.810280e+06\n",
       "min      1.414632e+06\n",
       "25%      3.090546e+06\n",
       "50%      5.153978e+06\n",
       "75%      8.051876e+06\n",
       "max      1.764530e+07\n",
       "Name: Gross, dtype: float64"
      ]
     },
     "execution_count": 11,
     "metadata": {},
     "output_type": "execute_result"
    }
   ],
   "source": [
    "df['Gross'].describe()"
   ]
  },
  {
   "cell_type": "code",
   "execution_count": 12,
   "id": "b6a50d18-c65c-487c-8bd8-867e4194bead",
   "metadata": {},
   "outputs": [
    {
     "data": {
      "text/html": [
       "<div>\n",
       "<style scoped>\n",
       "    .dataframe tbody tr th:only-of-type {\n",
       "        vertical-align: middle;\n",
       "    }\n",
       "\n",
       "    .dataframe tbody tr th {\n",
       "        vertical-align: top;\n",
       "    }\n",
       "\n",
       "    .dataframe thead th {\n",
       "        text-align: right;\n",
       "    }\n",
       "</style>\n",
       "<table border=\"1\" class=\"dataframe\">\n",
       "  <thead>\n",
       "    <tr style=\"text-align: right;\">\n",
       "      <th></th>\n",
       "      <th>#</th>\n",
       "      <th>Date</th>\n",
       "      <th>Film</th>\n",
       "      <th>Gross</th>\n",
       "      <th>Notes</th>\n",
       "      <th>Month</th>\n",
       "    </tr>\n",
       "  </thead>\n",
       "  <tbody>\n",
       "    <tr>\n",
       "      <th>0</th>\n",
       "      <td>1</td>\n",
       "      <td>2018-01-07</td>\n",
       "      <td>Star Wars: The Last Jedi</td>\n",
       "      <td>6557062</td>\n",
       "      <td>[1]</td>\n",
       "      <td>1</td>\n",
       "    </tr>\n",
       "    <tr>\n",
       "      <th>1</th>\n",
       "      <td>2</td>\n",
       "      <td>2018-01-14</td>\n",
       "      <td>Jumanji: Welcome to the Jungle</td>\n",
       "      <td>2127871</td>\n",
       "      <td>[2]</td>\n",
       "      <td>1</td>\n",
       "    </tr>\n",
       "    <tr>\n",
       "      <th>2</th>\n",
       "      <td>3</td>\n",
       "      <td>2018-01-21</td>\n",
       "      <td>Brillantissime</td>\n",
       "      <td>2006033</td>\n",
       "      <td>[3]</td>\n",
       "      <td>1</td>\n",
       "    </tr>\n",
       "    <tr>\n",
       "      <th>3</th>\n",
       "      <td>4</td>\n",
       "      <td>2018-01-28</td>\n",
       "      <td>The Post</td>\n",
       "      <td>2771269</td>\n",
       "      <td>[4]</td>\n",
       "      <td>1</td>\n",
       "    </tr>\n",
       "    <tr>\n",
       "      <th>4</th>\n",
       "      <td>5</td>\n",
       "      <td>2018-02-04</td>\n",
       "      <td>Les Tuche 3</td>\n",
       "      <td>16604101</td>\n",
       "      <td>[5]</td>\n",
       "      <td>2</td>\n",
       "    </tr>\n",
       "  </tbody>\n",
       "</table>\n",
       "</div>"
      ],
      "text/plain": [
       "   #       Date                            Film     Gross Notes  Month\n",
       "0  1 2018-01-07        Star Wars: The Last Jedi   6557062   [1]      1\n",
       "1  2 2018-01-14  Jumanji: Welcome to the Jungle   2127871   [2]      1\n",
       "2  3 2018-01-21                  Brillantissime   2006033   [3]      1\n",
       "3  4 2018-01-28                        The Post   2771269   [4]      1\n",
       "4  5 2018-02-04                     Les Tuche 3  16604101   [5]      2"
      ]
     },
     "execution_count": 12,
     "metadata": {},
     "output_type": "execute_result"
    }
   ],
   "source": [
    "df.head()"
   ]
  },
  {
   "cell_type": "code",
   "execution_count": 13,
   "id": "1e8a6baa-0ed6-474b-bf83-f7a10e04bd9c",
   "metadata": {},
   "outputs": [],
   "source": [
    "df.drop(['#','Notes'],axis=1,inplace=True)"
   ]
  },
  {
   "cell_type": "code",
   "execution_count": 18,
   "id": "4165847b-2106-4de9-a755-db5da07868c3",
   "metadata": {},
   "outputs": [],
   "source": [
    "#dfg=df.groupby('Month')"
   ]
  },
  {
   "cell_type": "code",
   "execution_count": 14,
   "id": "113db5bd-533e-43d3-bfc7-2777dc8d97dd",
   "metadata": {},
   "outputs": [],
   "source": [
    "df.rename(columns={'Date':'date','Film':'film','Gross':'gross','Month':'month'},inplace=True)"
   ]
  },
  {
   "cell_type": "code",
   "execution_count": 15,
   "id": "59969e53-44b8-436c-b524-ab5d711a1752",
   "metadata": {},
   "outputs": [
    {
     "data": {
      "text/html": [
       "<div>\n",
       "<style scoped>\n",
       "    .dataframe tbody tr th:only-of-type {\n",
       "        vertical-align: middle;\n",
       "    }\n",
       "\n",
       "    .dataframe tbody tr th {\n",
       "        vertical-align: top;\n",
       "    }\n",
       "\n",
       "    .dataframe thead th {\n",
       "        text-align: right;\n",
       "    }\n",
       "</style>\n",
       "<table border=\"1\" class=\"dataframe\">\n",
       "  <thead>\n",
       "    <tr style=\"text-align: right;\">\n",
       "      <th></th>\n",
       "      <th>date</th>\n",
       "      <th>film</th>\n",
       "      <th>gross</th>\n",
       "      <th>month</th>\n",
       "    </tr>\n",
       "  </thead>\n",
       "  <tbody>\n",
       "    <tr>\n",
       "      <th>0</th>\n",
       "      <td>2018-01-07</td>\n",
       "      <td>Star Wars: The Last Jedi</td>\n",
       "      <td>6557062</td>\n",
       "      <td>1</td>\n",
       "    </tr>\n",
       "    <tr>\n",
       "      <th>1</th>\n",
       "      <td>2018-01-14</td>\n",
       "      <td>Jumanji: Welcome to the Jungle</td>\n",
       "      <td>2127871</td>\n",
       "      <td>1</td>\n",
       "    </tr>\n",
       "    <tr>\n",
       "      <th>2</th>\n",
       "      <td>2018-01-21</td>\n",
       "      <td>Brillantissime</td>\n",
       "      <td>2006033</td>\n",
       "      <td>1</td>\n",
       "    </tr>\n",
       "    <tr>\n",
       "      <th>3</th>\n",
       "      <td>2018-01-28</td>\n",
       "      <td>The Post</td>\n",
       "      <td>2771269</td>\n",
       "      <td>1</td>\n",
       "    </tr>\n",
       "    <tr>\n",
       "      <th>4</th>\n",
       "      <td>2018-02-04</td>\n",
       "      <td>Les Tuche 3</td>\n",
       "      <td>16604101</td>\n",
       "      <td>2</td>\n",
       "    </tr>\n",
       "  </tbody>\n",
       "</table>\n",
       "</div>"
      ],
      "text/plain": [
       "        date                            film     gross  month\n",
       "0 2018-01-07        Star Wars: The Last Jedi   6557062      1\n",
       "1 2018-01-14  Jumanji: Welcome to the Jungle   2127871      1\n",
       "2 2018-01-21                  Brillantissime   2006033      1\n",
       "3 2018-01-28                        The Post   2771269      1\n",
       "4 2018-02-04                     Les Tuche 3  16604101      2"
      ]
     },
     "execution_count": 15,
     "metadata": {},
     "output_type": "execute_result"
    }
   ],
   "source": [
    "df.head()"
   ]
  },
  {
   "cell_type": "code",
   "execution_count": 16,
   "id": "976a9a13-1556-4785-9715-11752badc38c",
   "metadata": {},
   "outputs": [
    {
     "data": {
      "image/png": "[encoded data removed]",
      "text/plain": [
       "<Figure size 720x360 with 2 Axes>"
      ]
     },
     "metadata": {
      "needs_background": "light"
     },
     "output_type": "display_data"
    }
   ],
   "source": [
    "fig,(ax1,ax2)=plt.subplots(1,2,figsize=(10,5))\n",
    "df1=df[['film','gross']].sort_values(by='gross')"
   ]
  },
  {
   "cell_type": "code",
   "execution_count": 17,
   "id": "4375799c-9555-4941-af60-0cc55b83ee6a",
   "metadata": {},
   "outputs": [
    {
     "data": {
      "text/plain": [
       "Text(0.5, 1.0, 'Top 5 Films by Revenue')"
      ]
     },
     "execution_count": 17,
     "metadata": {},
     "output_type": "execute_result"
    },
    {
     "data": {
      "image/png": "[encoded data removed]",
      "text/plain": [
       "<Figure size 432x288 with 1 Axes>"
      ]
     },
     "metadata": {
      "needs_background": "light"
     },
     "output_type": "display_data"
    }
   ],
   "source": [
    "#ax1=sns.barplot(x=df.head(5)['film'].sort_values(),y='gross',data=df1)\n",
    "ax1=sns.barplot(x='film',y='gross',data=df1.head(5))\n",
    "ax1.set_xticklabels(labels=df1.head(5)['film'],rotation=60)\n",
    "ax1.set_ylabel('Gross Revenue',size=15)\n",
    "ax1.set_xlabel('Film',size=15)\n",
    "ax1.set_title('Top 5 Films by Revenue')"
   ]
  },
  {
   "cell_type": "code",
   "execution_count": 19,
   "id": "26fdb3f3-1b67-42b6-a7d2-8b38e2742829",
   "metadata": {},
   "outputs": [
    {
     "name": "stdout",
     "output_type": "stream",
     "text": [
      "<class 'pandas.core.frame.DataFrame'>\n",
      "RangeIndex: 50 entries, 0 to 49\n",
      "Data columns (total 4 columns):\n",
      " #   Column  Non-Null Count  Dtype         \n",
      "---  ------  --------------  -----         \n",
      " 0   date    50 non-null     datetime64[ns]\n",
      " 1   film    50 non-null     object        \n",
      " 2   gross   50 non-null     int64         \n",
      " 3   month   50 non-null     int64         \n",
      "dtypes: datetime64[ns](1), int64(2), object(1)\n",
      "memory usage: 1.7+ KB\n"
     ]
    }
   ],
   "source": [
    "df.info()"
   ]
  },
  {
   "cell_type": "code",
   "execution_count": null,
   "id": "cdd0b62e-2790-4fe1-a77e-a41a8175e9f6",
   "metadata": {},
   "outputs": [],
   "source": []
  },
  {
   "cell_type": "code",
   "execution_count": null,
   "id": "ff624bb7-2dfa-467d-b4f8-b6433fc49e96",
   "metadata": {},
   "outputs": [
    {
     "data": {
      "text/plain": [
       "Text(0.5, 1.0, 'Top five Films ')"
      ]
     },
     "execution_count": 152,
     "metadata": {},
     "output_type": "execute_result"
    }
   ],
   "source": [
    "plt.pie(x='gross',labels=df.head(10)['film'],data=df1.head(10),autopct='%.2f%%',explode=[0,0,0,0,0.1,0,0,0,0,0],startangle =90,shadow=True,wedgeprops = {'linewidth' : 1,  'edgecolor' :'c'},\n",
    "radius=100, frame=True)\n",
    "plt.title('Top five Films ',size=18,color='b',fontweight ='bold')\n"
   ]
  },
  {
   "cell_type": "code",
   "execution_count": 23,
   "id": "8dad0389-3289-4dd9-a223-d03b7c7bd46d",
   "metadata": {},
   "outputs": [
    {
     "data": {
      "text/html": [
       "<div>\n",
       "<style scoped>\n",
       "    .dataframe tbody tr th:only-of-type {\n",
       "        vertical-align: middle;\n",
       "    }\n",
       "\n",
       "    .dataframe tbody tr th {\n",
       "        vertical-align: top;\n",
       "    }\n",
       "\n",
       "    .dataframe thead th {\n",
       "        text-align: right;\n",
       "    }\n",
       "</style>\n",
       "<table border=\"1\" class=\"dataframe\">\n",
       "  <thead>\n",
       "    <tr style=\"text-align: right;\">\n",
       "      <th></th>\n",
       "      <th>date</th>\n",
       "      <th>film</th>\n",
       "      <th>gross</th>\n",
       "      <th>month</th>\n",
       "    </tr>\n",
       "  </thead>\n",
       "  <tbody>\n",
       "    <tr>\n",
       "      <th>0</th>\n",
       "      <td>2018-01-07</td>\n",
       "      <td>Star Wars: The Last Jedi</td>\n",
       "      <td>6557062</td>\n",
       "      <td>1</td>\n",
       "    </tr>\n",
       "    <tr>\n",
       "      <th>1</th>\n",
       "      <td>2018-01-14</td>\n",
       "      <td>Jumanji: Welcome to the Jungle</td>\n",
       "      <td>2127871</td>\n",
       "      <td>1</td>\n",
       "    </tr>\n",
       "    <tr>\n",
       "      <th>2</th>\n",
       "      <td>2018-01-21</td>\n",
       "      <td>Brillantissime</td>\n",
       "      <td>2006033</td>\n",
       "      <td>1</td>\n",
       "    </tr>\n",
       "    <tr>\n",
       "      <th>3</th>\n",
       "      <td>2018-01-28</td>\n",
       "      <td>The Post</td>\n",
       "      <td>2771269</td>\n",
       "      <td>1</td>\n",
       "    </tr>\n",
       "    <tr>\n",
       "      <th>4</th>\n",
       "      <td>2018-02-04</td>\n",
       "      <td>Les Tuche 3</td>\n",
       "      <td>16604101</td>\n",
       "      <td>2</td>\n",
       "    </tr>\n",
       "    <tr>\n",
       "      <th>5</th>\n",
       "      <td>2018-02-11</td>\n",
       "      <td>Les Tuche 3</td>\n",
       "      <td>8753427</td>\n",
       "      <td>2</td>\n",
       "    </tr>\n",
       "    <tr>\n",
       "      <th>6</th>\n",
       "      <td>2018-02-18</td>\n",
       "      <td>Black Panther</td>\n",
       "      <td>7627163</td>\n",
       "      <td>2</td>\n",
       "    </tr>\n",
       "    <tr>\n",
       "      <th>7</th>\n",
       "      <td>2018-02-25</td>\n",
       "      <td>Black Panther</td>\n",
       "      <td>5637555</td>\n",
       "      <td>2</td>\n",
       "    </tr>\n",
       "    <tr>\n",
       "      <th>8</th>\n",
       "      <td>2018-03-04</td>\n",
       "      <td>La ch'tite famille</td>\n",
       "      <td>16739183</td>\n",
       "      <td>3</td>\n",
       "    </tr>\n",
       "    <tr>\n",
       "      <th>9</th>\n",
       "      <td>2018-03-11</td>\n",
       "      <td>La ch'tite famille</td>\n",
       "      <td>9546133</td>\n",
       "      <td>3</td>\n",
       "    </tr>\n",
       "    <tr>\n",
       "      <th>10</th>\n",
       "      <td>2018-03-18</td>\n",
       "      <td>La ch'tite famille</td>\n",
       "      <td>5278842</td>\n",
       "      <td>3</td>\n",
       "    </tr>\n",
       "    <tr>\n",
       "      <th>11</th>\n",
       "      <td>2018-03-25</td>\n",
       "      <td>Rolling to You</td>\n",
       "      <td>3073866</td>\n",
       "      <td>3</td>\n",
       "    </tr>\n",
       "    <tr>\n",
       "      <th>12</th>\n",
       "      <td>2018-04-01</td>\n",
       "      <td>Ready Player One</td>\n",
       "      <td>5484062</td>\n",
       "      <td>4</td>\n",
       "    </tr>\n",
       "    <tr>\n",
       "      <th>13</th>\n",
       "      <td>2018-04-08</td>\n",
       "      <td>Ready Player One</td>\n",
       "      <td>3140585</td>\n",
       "      <td>4</td>\n",
       "    </tr>\n",
       "    <tr>\n",
       "      <th>14</th>\n",
       "      <td>2018-04-15</td>\n",
       "      <td>Taxi 5</td>\n",
       "      <td>10568544</td>\n",
       "      <td>4</td>\n",
       "    </tr>\n",
       "    <tr>\n",
       "      <th>15</th>\n",
       "      <td>2018-04-22</td>\n",
       "      <td>Taxi 5</td>\n",
       "      <td>4109407</td>\n",
       "      <td>4</td>\n",
       "    </tr>\n",
       "    <tr>\n",
       "      <th>16</th>\n",
       "      <td>2018-04-29</td>\n",
       "      <td>Avengers: Infinity War</td>\n",
       "      <td>17645304</td>\n",
       "      <td>4</td>\n",
       "    </tr>\n",
       "    <tr>\n",
       "      <th>17</th>\n",
       "      <td>2018-05-06</td>\n",
       "      <td>Avengers: Infinity War</td>\n",
       "      <td>6891789</td>\n",
       "      <td>5</td>\n",
       "    </tr>\n",
       "    <tr>\n",
       "      <th>18</th>\n",
       "      <td>2018-05-13</td>\n",
       "      <td>Avengers: Infinity War</td>\n",
       "      <td>6273652</td>\n",
       "      <td>5</td>\n",
       "    </tr>\n",
       "    <tr>\n",
       "      <th>19</th>\n",
       "      <td>2018-05-20</td>\n",
       "      <td>Deadpool 2</td>\n",
       "      <td>8836807</td>\n",
       "      <td>5</td>\n",
       "    </tr>\n",
       "    <tr>\n",
       "      <th>20</th>\n",
       "      <td>2018-05-27</td>\n",
       "      <td>Solo: A Star Wars Story</td>\n",
       "      <td>4015319</td>\n",
       "      <td>5</td>\n",
       "    </tr>\n",
       "    <tr>\n",
       "      <th>21</th>\n",
       "      <td>2018-06-03</td>\n",
       "      <td>Solo: A Star Wars Story</td>\n",
       "      <td>2770078</td>\n",
       "      <td>6</td>\n",
       "    </tr>\n",
       "    <tr>\n",
       "      <th>22</th>\n",
       "      <td>2018-06-10</td>\n",
       "      <td>Jurassic World: Fallen Kingdom</td>\n",
       "      <td>9579503</td>\n",
       "      <td>6</td>\n",
       "    </tr>\n",
       "    <tr>\n",
       "      <th>23</th>\n",
       "      <td>2018-06-17</td>\n",
       "      <td>Jurassic World: Fallen Kingdom</td>\n",
       "      <td>4791805</td>\n",
       "      <td>6</td>\n",
       "    </tr>\n",
       "    <tr>\n",
       "      <th>24</th>\n",
       "      <td>2018-06-24</td>\n",
       "      <td>Jurassic World: Fallen Kingdom</td>\n",
       "      <td>2520159</td>\n",
       "      <td>6</td>\n",
       "    </tr>\n",
       "    <tr>\n",
       "      <th>25</th>\n",
       "      <td>2018-07-01</td>\n",
       "      <td>Jurassic World: Fallen Kingdom</td>\n",
       "      <td>1740016</td>\n",
       "      <td>7</td>\n",
       "    </tr>\n",
       "    <tr>\n",
       "      <th>26</th>\n",
       "      <td>2018-07-08</td>\n",
       "      <td>Incredibles 2</td>\n",
       "      <td>9454086</td>\n",
       "      <td>7</td>\n",
       "    </tr>\n",
       "    <tr>\n",
       "      <th>27</th>\n",
       "      <td>2018-07-15</td>\n",
       "      <td>Incredibles 2</td>\n",
       "      <td>5152960</td>\n",
       "      <td>7</td>\n",
       "    </tr>\n",
       "    <tr>\n",
       "      <th>28</th>\n",
       "      <td>2018-07-22</td>\n",
       "      <td>Incredibles 2</td>\n",
       "      <td>4859634</td>\n",
       "      <td>7</td>\n",
       "    </tr>\n",
       "    <tr>\n",
       "      <th>29</th>\n",
       "      <td>2018-07-29</td>\n",
       "      <td>Hotel Transylvania 3: Summer Vacation</td>\n",
       "      <td>3929857</td>\n",
       "      <td>7</td>\n",
       "    </tr>\n",
       "    <tr>\n",
       "      <th>30</th>\n",
       "      <td>2018-08-05</td>\n",
       "      <td>Mission: Impossible – Fallout</td>\n",
       "      <td>8193447</td>\n",
       "      <td>8</td>\n",
       "    </tr>\n",
       "    <tr>\n",
       "      <th>31</th>\n",
       "      <td>2018-08-12</td>\n",
       "      <td>Mission: Impossible – Fallout</td>\n",
       "      <td>4350586</td>\n",
       "      <td>8</td>\n",
       "    </tr>\n",
       "    <tr>\n",
       "      <th>32</th>\n",
       "      <td>2018-08-19</td>\n",
       "      <td>Mission: Impossible – Fallout</td>\n",
       "      <td>2873390</td>\n",
       "      <td>8</td>\n",
       "    </tr>\n",
       "    <tr>\n",
       "      <th>33</th>\n",
       "      <td>2018-08-26</td>\n",
       "      <td>The Meg</td>\n",
       "      <td>4513632</td>\n",
       "      <td>8</td>\n",
       "    </tr>\n",
       "    <tr>\n",
       "      <th>34</th>\n",
       "      <td>2018-09-02</td>\n",
       "      <td>The Meg</td>\n",
       "      <td>2513203</td>\n",
       "      <td>9</td>\n",
       "    </tr>\n",
       "    <tr>\n",
       "      <th>35</th>\n",
       "      <td>2018-09-09</td>\n",
       "      <td>Photo de Famille</td>\n",
       "      <td>1414632</td>\n",
       "      <td>9</td>\n",
       "    </tr>\n",
       "    <tr>\n",
       "      <th>36</th>\n",
       "      <td>2018-09-16</td>\n",
       "      <td>Première année</td>\n",
       "      <td>2222791</td>\n",
       "      <td>9</td>\n",
       "    </tr>\n",
       "    <tr>\n",
       "      <th>37</th>\n",
       "      <td>2018-09-23</td>\n",
       "      <td>The Nun</td>\n",
       "      <td>4425722</td>\n",
       "      <td>9</td>\n",
       "    </tr>\n",
       "    <tr>\n",
       "      <th>38</th>\n",
       "      <td>2018-09-30</td>\n",
       "      <td>The Nun</td>\n",
       "      <td>2254244</td>\n",
       "      <td>9</td>\n",
       "    </tr>\n",
       "    <tr>\n",
       "      <th>39</th>\n",
       "      <td>2018-10-07</td>\n",
       "      <td>Alad'2</td>\n",
       "      <td>6228621</td>\n",
       "      <td>10</td>\n",
       "    </tr>\n",
       "    <tr>\n",
       "      <th>40</th>\n",
       "      <td>2018-10-14</td>\n",
       "      <td>Venom</td>\n",
       "      <td>6646527</td>\n",
       "      <td>10</td>\n",
       "    </tr>\n",
       "    <tr>\n",
       "      <th>41</th>\n",
       "      <td>2018-10-21</td>\n",
       "      <td>Venom</td>\n",
       "      <td>3019547</td>\n",
       "      <td>10</td>\n",
       "    </tr>\n",
       "    <tr>\n",
       "      <th>42</th>\n",
       "      <td>2018-10-28</td>\n",
       "      <td>Sink or Swim</td>\n",
       "      <td>9051705</td>\n",
       "      <td>10</td>\n",
       "    </tr>\n",
       "    <tr>\n",
       "      <th>43</th>\n",
       "      <td>2018-11-04</td>\n",
       "      <td>Sink or Swim</td>\n",
       "      <td>9676385</td>\n",
       "      <td>11</td>\n",
       "    </tr>\n",
       "    <tr>\n",
       "      <th>44</th>\n",
       "      <td>2018-11-11</td>\n",
       "      <td>Bohemian Rhapsody</td>\n",
       "      <td>5154997</td>\n",
       "      <td>11</td>\n",
       "    </tr>\n",
       "    <tr>\n",
       "      <th>45</th>\n",
       "      <td>2018-11-18</td>\n",
       "      <td>Fantastic Beasts: The Crimes of Grindelwald</td>\n",
       "      <td>11438486</td>\n",
       "      <td>11</td>\n",
       "    </tr>\n",
       "    <tr>\n",
       "      <th>46</th>\n",
       "      <td>2018-11-25</td>\n",
       "      <td>Fantastic Beasts: The Crimes of Grindelwald</td>\n",
       "      <td>6378619</td>\n",
       "      <td>11</td>\n",
       "    </tr>\n",
       "    <tr>\n",
       "      <th>47</th>\n",
       "      <td>2018-12-02</td>\n",
       "      <td>Fantastic Beasts: The Crimes of Grindelwald</td>\n",
       "      <td>3656409</td>\n",
       "      <td>12</td>\n",
       "    </tr>\n",
       "    <tr>\n",
       "      <th>48</th>\n",
       "      <td>2018-12-09</td>\n",
       "      <td>Asterix: The Secret of the Magic Potion</td>\n",
       "      <td>6863693</td>\n",
       "      <td>12</td>\n",
       "    </tr>\n",
       "    <tr>\n",
       "      <th>49</th>\n",
       "      <td>2018-12-16</td>\n",
       "      <td>Asterix: The Secret of the Magic Potion</td>\n",
       "      <td>4187527</td>\n",
       "      <td>12</td>\n",
       "    </tr>\n",
       "  </tbody>\n",
       "</table>\n",
       "</div>"
      ],
      "text/plain": [
       "         date                                         film     gross  month\n",
       "0  2018-01-07                     Star Wars: The Last Jedi   6557062      1\n",
       "1  2018-01-14               Jumanji: Welcome to the Jungle   2127871      1\n",
       "2  2018-01-21                               Brillantissime   2006033      1\n",
       "3  2018-01-28                                     The Post   2771269      1\n",
       "4  2018-02-04                                  Les Tuche 3  16604101      2\n",
       "5  2018-02-11                                  Les Tuche 3   8753427      2\n",
       "6  2018-02-18                                Black Panther   7627163      2\n",
       "7  2018-02-25                                Black Panther   5637555      2\n",
       "8  2018-03-04                           La ch'tite famille  16739183      3\n",
       "9  2018-03-11                           La ch'tite famille   9546133      3\n",
       "10 2018-03-18                           La ch'tite famille   5278842      3\n",
       "11 2018-03-25                               Rolling to You   3073866      3\n",
       "12 2018-04-01                             Ready Player One   5484062      4\n",
       "13 2018-04-08                             Ready Player One   3140585      4\n",
       "14 2018-04-15                                       Taxi 5  10568544      4\n",
       "15 2018-04-22                                       Taxi 5   4109407      4\n",
       "16 2018-04-29                       Avengers: Infinity War  17645304      4\n",
       "17 2018-05-06                       Avengers: Infinity War   6891789      5\n",
       "18 2018-05-13                       Avengers: Infinity War   6273652      5\n",
       "19 2018-05-20                                   Deadpool 2   8836807      5\n",
       "20 2018-05-27                      Solo: A Star Wars Story   4015319      5\n",
       "21 2018-06-03                      Solo: A Star Wars Story   2770078      6\n",
       "22 2018-06-10               Jurassic World: Fallen Kingdom   9579503      6\n",
       "23 2018-06-17               Jurassic World: Fallen Kingdom   4791805      6\n",
       "24 2018-06-24               Jurassic World: Fallen Kingdom   2520159      6\n",
       "25 2018-07-01               Jurassic World: Fallen Kingdom   1740016      7\n",
       "26 2018-07-08                                Incredibles 2   9454086      7\n",
       "27 2018-07-15                                Incredibles 2   5152960      7\n",
       "28 2018-07-22                                Incredibles 2   4859634      7\n",
       "29 2018-07-29        Hotel Transylvania 3: Summer Vacation   3929857      7\n",
       "30 2018-08-05                Mission: Impossible – Fallout   8193447      8\n",
       "31 2018-08-12                Mission: Impossible – Fallout   4350586      8\n",
       "32 2018-08-19                Mission: Impossible – Fallout   2873390      8\n",
       "33 2018-08-26                                      The Meg   4513632      8\n",
       "34 2018-09-02                                      The Meg   2513203      9\n",
       "35 2018-09-09                             Photo de Famille   1414632      9\n",
       "36 2018-09-16                               Première année   2222791      9\n",
       "37 2018-09-23                                      The Nun   4425722      9\n",
       "38 2018-09-30                                      The Nun   2254244      9\n",
       "39 2018-10-07                                       Alad'2   6228621     10\n",
       "40 2018-10-14                                        Venom   6646527     10\n",
       "41 2018-10-21                                        Venom   3019547     10\n",
       "42 2018-10-28                                 Sink or Swim   9051705     10\n",
       "43 2018-11-04                                 Sink or Swim   9676385     11\n",
       "44 2018-11-11                            Bohemian Rhapsody   5154997     11\n",
       "45 2018-11-18  Fantastic Beasts: The Crimes of Grindelwald  11438486     11\n",
       "46 2018-11-25  Fantastic Beasts: The Crimes of Grindelwald   6378619     11\n",
       "47 2018-12-02  Fantastic Beasts: The Crimes of Grindelwald   3656409     12\n",
       "48 2018-12-09      Asterix: The Secret of the Magic Potion   6863693     12\n",
       "49 2018-12-16      Asterix: The Secret of the Magic Potion   4187527     12"
      ]
     },
     "execution_count": 23,
     "metadata": {},
     "output_type": "execute_result"
    }
   ],
   "source": [
    "df"
   ]
  },
  {
   "cell_type": "code",
   "execution_count": 43,
   "id": "433cd5f5",
   "metadata": {},
   "outputs": [
    {
     "data": {
      "image/png": "[encoded data removed]",
      "text/plain": [
       "<Figure size 720x720 with 4 Axes>"
      ]
     },
     "metadata": {
      "needs_background": "light"
     },
     "output_type": "display_data"
    }
   ],
   "source": [
    "ax=sns.clustermap(df.iloc[:,2:4],standard_scale=1,annot=True);"
   ]
  },
  {
   "cell_type": "code",
   "execution_count": null,
   "id": "2a974645",
   "metadata": {},
   "outputs": [],
   "source": []
  }
 ],
 "metadata": {
  "kernelspec": {
   "display_name": "Python 3",
   "language": "python",
   "name": "python3"
  },
  "language_info": {
   "codemirror_mode": {
    "name": "ipython",
    "version": 3
   },
   "file_extension": ".py",
   "mimetype": "text/x-python",
   "name": "python",
   "nbconvert_exporter": "python",
   "pygments_lexer": "ipython3",
   "version": "3.8.8"
  }
 },
 "nbformat": 4,
 "nbformat_minor": 5
}
